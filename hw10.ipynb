{
  "nbformat": 4,
  "nbformat_minor": 0,
  "metadata": {
    "colab": {
      "name": "Untitled10.ipynb",
      "provenance": []
    },
    "kernelspec": {
      "name": "python3",
      "display_name": "Python 3"
    }
  },
  "cells": [
    {
      "cell_type": "code",
      "metadata": {
        "id": "eYb9vPOcxZww"
      },
      "source": [
        "import numpy as np\n",
        "from tensorflow import keras\n",
        "from keras import models \n",
        "from keras import layers\n",
        "import matplotlib.pyplot as plt\n",
        "from keras.models import Sequential\n",
        "\n",
        "from keras.datasets import imdb\n",
        "# https://www.imdb.com/\n",
        "(X, y_train), (X_test, y_test) = imdb.load_data(num_words=10000)"
      ],
      "execution_count": 10,
      "outputs": []
    },
    {
      "cell_type": "code",
      "metadata": {
        "id": "F7yW6dh4xaNK"
      },
      "source": [
        "# text to vector\n",
        "def vect(seq, dim=10000):\n",
        "    x=np.zeros((len(seq),dim))\n",
        "    for n, i in enumerate(seq):\n",
        "        x[n, i] = 1\n",
        "    return x\n",
        "\n",
        "X_train=vect(X)\n",
        "X_test=vect(X_test)"
      ],
      "execution_count": 2,
      "outputs": []
    },
    {
      "cell_type": "code",
      "metadata": {
        "colab": {
          "base_uri": "https://localhost:8080/"
        },
        "id": "S1aR2YA4xbW7",
        "outputId": "a1ec3801-4a31-44f7-a8db-8acfbdc9f5c3"
      },
      "source": [
        "X_train[0]"
      ],
      "execution_count": 3,
      "outputs": [
        {
          "output_type": "execute_result",
          "data": {
            "text/plain": [
              "array([0., 1., 1., ..., 0., 0., 0.])"
            ]
          },
          "metadata": {
            "tags": []
          },
          "execution_count": 3
        }
      ]
    },
    {
      "cell_type": "code",
      "metadata": {
        "colab": {
          "base_uri": "https://localhost:8080/"
        },
        "id": "Nxmv3-P_xcbf",
        "outputId": "14364bb0-fa27-44cc-871a-5d2d4873939c"
      },
      "source": [
        "net = models.Sequential()\n",
        "net.add(layers.Dense(16, activation='relu', input_shape=(10000,)))\n",
        "net.add(layers.Dropout(0.5))\n",
        "net.add(layers.Dense(16, activation='relu'))\n",
        "net.add(layers.Dropout(0.5))\n",
        "net.add(layers.Dense(1, activation='sigmoid'))\n",
        "net.compile(optimizer='nadam', loss='binary_crossentropy', metrics = ['acc'])\n",
        "\n",
        "X_val = X_train[:10000]\n",
        "partial_X_train = X_train[10000:]\n",
        "\n",
        "y_val = y_train[:10000]\n",
        "partial_y_train = y_train[10000:]\n",
        "\n",
        "val = net.fit(partial_X_train, partial_y_train, epochs=5, batch_size=128, validation_data=(X_val, y_val))"
      ],
      "execution_count": 4,
      "outputs": [
        {
          "output_type": "stream",
          "text": [
            "Epoch 1/5\n",
            "118/118 [==============================] - 2s 15ms/step - loss: 0.5856 - acc: 0.6787 - val_loss: 0.3875 - val_acc: 0.8665\n",
            "Epoch 2/5\n",
            "118/118 [==============================] - 1s 12ms/step - loss: 0.3899 - acc: 0.8427 - val_loss: 0.2995 - val_acc: 0.8851\n",
            "Epoch 3/5\n",
            "118/118 [==============================] - 1s 12ms/step - loss: 0.2977 - acc: 0.8958 - val_loss: 0.2890 - val_acc: 0.8846\n",
            "Epoch 4/5\n",
            "118/118 [==============================] - 1s 12ms/step - loss: 0.2433 - acc: 0.9167 - val_loss: 0.3072 - val_acc: 0.8790\n",
            "Epoch 5/5\n",
            "118/118 [==============================] - 1s 12ms/step - loss: 0.2035 - acc: 0.9285 - val_loss: 0.2882 - val_acc: 0.8839\n"
          ],
          "name": "stdout"
        }
      ]
    },
    {
      "cell_type": "code",
      "metadata": {
        "colab": {
          "base_uri": "https://localhost:8080/",
          "height": 285
        },
        "id": "GfpY-kVmxdrg",
        "outputId": "ca889b93-49f4-4170-8f83-93f78ca32998"
      },
      "source": [
        "val_dict = val.history\n",
        "loss = val_dict['loss']\n",
        "val_loss = val_dict['val_loss']\n",
        "x = np.arange(0,len(loss))\n",
        "\n",
        "plt.plot(x,loss,'-')\n",
        "plt.plot(x,val_loss,'o')"
      ],
      "execution_count": 5,
      "outputs": [
        {
          "output_type": "execute_result",
          "data": {
            "text/plain": [
              "[<matplotlib.lines.Line2D at 0x7f4de2d96320>]"
            ]
          },
          "metadata": {
            "tags": []
          },
          "execution_count": 5
        },
        {
          "output_type": "display_data",
          "data": {
            "image/png": "[encoded data removed]",
            "text/plain": [
              "<Figure size 432x288 with 1 Axes>"
            ]
          },
          "metadata": {
            "tags": [],
            "needs_background": "light"
          }
        }
      ]
    },
    {
      "cell_type": "code",
      "metadata": {
        "colab": {
          "base_uri": "https://localhost:8080/"
        },
        "id": "F9V8iZr9xezn",
        "outputId": "4d892e7f-41aa-4da0-fb49-5ec506ae07ed"
      },
      "source": [
        "test_loss, test_acc = net.evaluate(X_test,y_test)"
      ],
      "execution_count": 6,
      "outputs": [
        {
          "output_type": "stream",
          "text": [
            "782/782 [==============================] - 1s 2ms/step - loss: 0.3058 - acc: 0.8777\n"
          ],
          "name": "stdout"
        }
      ]
    },
    {
      "cell_type": "code",
      "metadata": {
        "id": "WSxxedssxf_H"
      },
      "source": [
        "from keras.preprocessing import sequence\n",
        "\n",
        "max_words=10000 \n",
        "(X_train, y_train), (X_test, y_test) = imdb.load_data(num_words=max_words)\n",
        "\n",
        "maxlen = 100 # sequence length\n",
        "X_train = sequence.pad_sequences(X_train, maxlen=maxlen)\n",
        "X_test = sequence.pad_sequences(X_test, maxlen=maxlen)"
      ],
      "execution_count": 26,
      "outputs": []
    },
    {
      "cell_type": "code",
      "metadata": {
        "id": "KC6_7vmNxhFa"
      },
      "source": [
        "rnn = models.Sequential()\n",
        "rnn.add(layers.Embedding(max_words, 16)) # 각각의 단어를 n=16 차원 공간에 올리기\n",
        "rnn.add(layers.SimpleRNN(32,return_sequences='True')) \n",
        "# 다층 RNN를 하기 위해 return_sequences = True로 설정"
      ],
      "execution_count": 8,
      "outputs": []
    },
    {
      "cell_type": "code",
      "metadata": {
        "id": "D5wUfeYkxiIZ"
      },
      "source": [
        "from keras.preprocessing import sequence\n",
        "max_words=10000 "
      ],
      "execution_count": 15,
      "outputs": []
    },
    {
      "cell_type": "code",
      "metadata": {
        "id": "syF5Va0NyPl5"
      },
      "source": [
        "rnn = models.Sequential()\n",
        "rnn.add(layers.Embedding(max_words, 16)) \n",
        "\n",
        "rnn.add(layers.SimpleRNN(16,activation = 'relu',return_sequences = True)) \n",
        "\n",
        "rnn.add(Dense(1, activation='sigmoid'))\n",
        "rnn.compile(loss='binary_crossentropy', optimizer='adam', metrics=['accuracy'])\n"
      ],
      "execution_count": 20,
      "outputs": []
    },
    {
      "cell_type": "code",
      "metadata": {
        "colab": {
          "base_uri": "https://localhost:8080/"
        },
        "id": "jmN-3sdcyUby",
        "outputId": "b8a2f5ea-f2dd-4782-c09c-371e4a685671"
      },
      "source": [
        "rnn.summary()"
      ],
      "execution_count": 22,
      "outputs": [
        {
          "output_type": "stream",
          "text": [
            "Model: \"sequential_11\"\n",
            "_________________________________________________________________\n",
            "Layer (type)                 Output Shape              Param #   \n",
            "=================================================================\n",
            "embedding_4 (Embedding)      (None, None, 16)          160000    \n",
            "_________________________________________________________________\n",
            "simple_rnn_2 (SimpleRNN)     (None, None, 16)          528       \n",
            "_________________________________________________________________\n",
            "dense_1 (Dense)              (None, None, 1)           17        \n",
            "=================================================================\n",
            "Total params: 160,545\n",
            "Trainable params: 160,545\n",
            "Non-trainable params: 0\n",
            "_________________________________________________________________\n"
          ],
          "name": "stdout"
        }
      ]
    },
    {
      "cell_type": "code",
      "metadata": {
        "colab": {
          "base_uri": "https://localhost:8080/"
        },
        "id": "ShFAPdOmyYVk",
        "outputId": "c3be794a-5f11-45d5-994b-1578de764e6a"
      },
      "source": [
        "history = rnn.fit(X_train,y_train,epochs = 10 ,batch_size = 128,verbose=1,validation_split = 0.2)"
      ],
      "execution_count": 31,
      "outputs": [
        {
          "output_type": "stream",
          "text": [
            "Epoch 1/10\n",
            "157/157 [==============================] - 4s 27ms/step - loss: 0.4776 - accuracy: 0.7646 - val_loss: 0.5178 - val_accuracy: 0.7427\n",
            "Epoch 2/10\n",
            "157/157 [==============================] - 5s 29ms/step - loss: 0.4068 - accuracy: 0.8080 - val_loss: 0.5074 - val_accuracy: 0.7432\n",
            "Epoch 3/10\n",
            "157/157 [==============================] - 5s 29ms/step - loss: 0.3665 - accuracy: 0.8302 - val_loss: 0.5387 - val_accuracy: 0.7361\n",
            "Epoch 4/10\n",
            "157/157 [==============================] - 4s 26ms/step - loss: 0.3350 - accuracy: 0.8452 - val_loss: 0.5899 - val_accuracy: 0.7276\n",
            "Epoch 5/10\n",
            "157/157 [==============================] - 4s 26ms/step - loss: 0.3125 - accuracy: 0.8550 - val_loss: 0.6274 - val_accuracy: 0.7286\n",
            "Epoch 6/10\n",
            "157/157 [==============================] - 4s 26ms/step - loss: 0.2942 - accuracy: 0.8626 - val_loss: 0.6703 - val_accuracy: 0.7247\n",
            "Epoch 7/10\n",
            "157/157 [==============================] - 4s 26ms/step - loss: 0.2669 - accuracy: 0.8739 - val_loss: 0.7583 - val_accuracy: 0.7176\n",
            "Epoch 8/10\n",
            "157/157 [==============================] - 4s 25ms/step - loss: 0.2496 - accuracy: 0.8812 - val_loss: 0.7429 - val_accuracy: 0.7186\n",
            "Epoch 9/10\n",
            "157/157 [==============================] - 4s 26ms/step - loss: 0.2411 - accuracy: 0.8849 - val_loss: 0.7484 - val_accuracy: 0.7160\n",
            "Epoch 10/10\n",
            "157/157 [==============================] - 4s 27ms/step - loss: 0.2458 - accuracy: 0.8831 - val_loss: 0.8221 - val_accuracy: 0.7159\n"
          ],
          "name": "stdout"
        }
      ]
    },
    {
      "cell_type": "code",
      "metadata": {
        "colab": {
          "base_uri": "https://localhost:8080/",
          "height": 283
        },
        "id": "LuDlccoqypz3",
        "outputId": "f826211f-c16e-49b2-b51d-0a0c230a5342"
      },
      "source": [
        "loss=history.history['loss']\n",
        "val=history.history['val_loss']\n",
        "plt.plot(loss)\n",
        "plt.plot(val,'o')"
      ],
      "execution_count": 37,
      "outputs": [
        {
          "output_type": "execute_result",
          "data": {
            "text/plain": [
              "[<matplotlib.lines.Line2D at 0x7fba6160ccc0>]"
            ]
          },
          "metadata": {
            "tags": []
          },
          "execution_count": 37
        },
        {
          "output_type": "display_data",
          "data": {
            "image/png": "[encoded data removed]",
            "text/plain": [
              "<Figure size 432x288 with 1 Axes>"
            ]
          },
          "metadata": {
            "tags": [],
            "needs_background": "light"
          }
        }
      ]
    },
    {
      "cell_type": "code",
      "metadata": {
        "colab": {
          "base_uri": "https://localhost:8080/"
        },
        "id": "UZirzfg21htu",
        "outputId": "d68fe20f-a73c-4954-d91e-c75b41dca755"
      },
      "source": [
        "rnn_test_loss, rnn_test_acc = rnn.evaluate(X_test,y_test)"
      ],
      "execution_count": 39,
      "outputs": [
        {
          "output_type": "stream",
          "text": [
            "782/782 [==============================] - 4s 5ms/step - loss: 0.8244 - accuracy: 0.7070\n"
          ],
          "name": "stdout"
        }
      ]
    },
    {
      "cell_type": "code",
      "metadata": {
        "colab": {
          "base_uri": "https://localhost:8080/"
        },
        "id": "OJASMt251r7z",
        "outputId": "3484b91a-6f31-46dc-960a-ae8d7ba3dd2c"
      },
      "source": [
        "print(rnn_test_loss,rnn_test_acc)"
      ],
      "execution_count": 40,
      "outputs": [
        {
          "output_type": "stream",
          "text": [
            "0.8243600726127625 0.7070218920707703\n"
          ],
          "name": "stdout"
        }
      ]
    },
    {
      "cell_type": "code",
      "metadata": {
        "id": "ANwOxcBm1wpN"
      },
      "source": [
        ""
      ],
      "execution_count": null,
      "outputs": []
    }
  ]
}