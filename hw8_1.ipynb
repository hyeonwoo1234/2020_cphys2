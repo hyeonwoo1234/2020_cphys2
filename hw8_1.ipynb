{
  "nbformat": 4,
  "nbformat_minor": 0,
  "metadata": {
    "colab": {
      "name": "Untitled3.ipynb",
      "provenance": []
    },
    "kernelspec": {
      "name": "python3",
      "display_name": "Python 3"
    }
  },
  "cells": [
    {
      "cell_type": "code",
      "metadata": {
        "id": "ORHMIvK8sOKa"
      },
      "source": [
        "import numpy as np\n",
        "from tensorflow import keras\n",
        "from keras import models \n",
        "from keras import layers\n",
        "from keras.datasets import mnist\n",
        "from keras.utils import to_categorical\n",
        "import matplotlib.pyplot as plt"
      ],
      "execution_count": 1,
      "outputs": []
    },
    {
      "cell_type": "code",
      "metadata": {
        "id": "dwrzoiaYsZrx",
        "outputId": "26b763d3-7ebd-4f40-c99a-3ff9cdd837d6",
        "colab": {
          "base_uri": "https://localhost:8080/"
        }
      },
      "source": [
        "(X_train, y_train), (X_test, y_test) = mnist.load_data()\n",
        "y_train=to_categorical(y_train)\n",
        "y_test=to_categorical(y_test)\n",
        "\n",
        "net = models.Sequential()\n",
        "net.add(layers.Dense(512, activation='relu', input_shape=(28*28,))) \n",
        "net.add(layers.Dense(512, activation='relu')) \n",
        "net.add(layers.Dense(512, activation='relu')) \n",
        "net.add(layers.Dense(10, activation='softmax')) \n",
        "net.compile(optimizer='nadam',loss='categorical_crossentropy',metrics=['acc'])\n",
        "\n",
        "# preprocessing\n",
        "X_train = X_train.reshape((60000, 28*28))\n",
        "X_train = X_train/255\n",
        "\n",
        "X_test = X_test.reshape((10000, 28*28))\n",
        "X_test = X_test/255"
      ],
      "execution_count": 2,
      "outputs": [
        {
          "output_type": "stream",
          "text": [
            "Downloading data from https://storage.googleapis.com/tensorflow/tf-keras-datasets/mnist.npz\n",
            "11493376/11490434 [==============================] - 0s 0us/step\n"
          ],
          "name": "stdout"
        }
      ]
    },
    {
      "cell_type": "code",
      "metadata": {
        "id": "K8hVmiPlsbAJ",
        "outputId": "840db154-214c-4028-ff00-b1a2bbae8620",
        "colab": {
          "base_uri": "https://localhost:8080/"
        }
      },
      "source": [
        "net.summary()"
      ],
      "execution_count": 3,
      "outputs": [
        {
          "output_type": "stream",
          "text": [
            "Model: \"sequential\"\n",
            "_________________________________________________________________\n",
            "Layer (type)                 Output Shape              Param #   \n",
            "=================================================================\n",
            "dense (Dense)                (None, 512)               401920    \n",
            "_________________________________________________________________\n",
            "dense_1 (Dense)              (None, 512)               262656    \n",
            "_________________________________________________________________\n",
            "dense_2 (Dense)              (None, 512)               262656    \n",
            "_________________________________________________________________\n",
            "dense_3 (Dense)              (None, 10)                5130      \n",
            "=================================================================\n",
            "Total params: 932,362\n",
            "Trainable params: 932,362\n",
            "Non-trainable params: 0\n",
            "_________________________________________________________________\n"
          ],
          "name": "stdout"
        }
      ]
    },
    {
      "cell_type": "code",
      "metadata": {
        "id": "8SNeeuh1sd6F",
        "outputId": "70c8ad49-8238-4533-8eed-ef527de05454",
        "colab": {
          "base_uri": "https://localhost:8080/"
        }
      },
      "source": [
        "net.fit(X_train, y_train, epochs=1, batch_size=128)"
      ],
      "execution_count": 6,
      "outputs": [
        {
          "output_type": "stream",
          "text": [
            "469/469 [==============================] - 12s 26ms/step - loss: 0.2131 - acc: 0.9350\n"
          ],
          "name": "stdout"
        },
        {
          "output_type": "execute_result",
          "data": {
            "text/plain": [
              "<tensorflow.python.keras.callbacks.History at 0x7ff052dcd6a0>"
            ]
          },
          "metadata": {
            "tags": []
          },
          "execution_count": 6
        }
      ]
    },
    {
      "cell_type": "code",
      "metadata": {
        "id": "KLGzYVs1sfz9",
        "outputId": "ef26ef43-a50e-4354-c8b3-38939f73d7b9",
        "colab": {
          "base_uri": "https://localhost:8080/"
        }
      },
      "source": [
        "test_loss, test_acc = net.evaluate(X_test,y_test)"
      ],
      "execution_count": 7,
      "outputs": [
        {
          "output_type": "stream",
          "text": [
            "313/313 [==============================] - 1s 4ms/step - loss: 0.0883 - acc: 0.9725\n"
          ],
          "name": "stdout"
        }
      ]
    },
    {
      "cell_type": "code",
      "metadata": {
        "id": "vyI8W2rkshHj",
        "outputId": "ad50cb40-86c8-4242-f6ed-653905782509",
        "colab": {
          "base_uri": "https://localhost:8080/"
        }
      },
      "source": [
        "X_train.shape"
      ],
      "execution_count": 8,
      "outputs": [
        {
          "output_type": "execute_result",
          "data": {
            "text/plain": [
              "(60000, 784)"
            ]
          },
          "metadata": {
            "tags": []
          },
          "execution_count": 8
        }
      ]
    },
    {
      "cell_type": "code",
      "metadata": {
        "id": "dp1zH-gPsihW"
      },
      "source": [
        "X_val = X_train[:10000]\n",
        "partial_X_train = X_train[10000:]\n",
        "\n",
        "y_val = y_train[:10000]\n",
        "partial_y_train = y_train[10000:]"
      ],
      "execution_count": 9,
      "outputs": []
    },
    {
      "cell_type": "code",
      "metadata": {
        "id": "uJAa0IEvsxoR",
        "outputId": "ab347d74-5310-47aa-eb1b-d2e49cad92de",
        "colab": {
          "base_uri": "https://localhost:8080/"
        }
      },
      "source": [
        "val = net.fit(partial_X_train,partial_y_train,epochs=20, batch_size=128, validation_data=(X_val, y_val))"
      ],
      "execution_count": 10,
      "outputs": [
        {
          "output_type": "stream",
          "text": [
            "Epoch 1/20\n",
            "391/391 [==============================] - 11s 28ms/step - loss: 0.0784 - acc: 0.9758 - val_loss: 0.0654 - val_acc: 0.9797\n",
            "Epoch 2/20\n",
            "391/391 [==============================] - 11s 28ms/step - loss: 0.0507 - acc: 0.9840 - val_loss: 0.0784 - val_acc: 0.9765\n",
            "Epoch 3/20\n",
            "391/391 [==============================] - 11s 28ms/step - loss: 0.0362 - acc: 0.9885 - val_loss: 0.0701 - val_acc: 0.9802\n",
            "Epoch 4/20\n",
            "391/391 [==============================] - 11s 28ms/step - loss: 0.0286 - acc: 0.9906 - val_loss: 0.0913 - val_acc: 0.9778\n",
            "Epoch 5/20\n",
            "391/391 [==============================] - 11s 27ms/step - loss: 0.0263 - acc: 0.9917 - val_loss: 0.0844 - val_acc: 0.9788\n",
            "Epoch 6/20\n",
            "391/391 [==============================] - 11s 28ms/step - loss: 0.0221 - acc: 0.9932 - val_loss: 0.0873 - val_acc: 0.9773\n",
            "Epoch 7/20\n",
            "391/391 [==============================] - 11s 27ms/step - loss: 0.0210 - acc: 0.9930 - val_loss: 0.0824 - val_acc: 0.9788\n",
            "Epoch 8/20\n",
            "391/391 [==============================] - 11s 29ms/step - loss: 0.0177 - acc: 0.9941 - val_loss: 0.0876 - val_acc: 0.9803\n",
            "Epoch 9/20\n",
            "391/391 [==============================] - 11s 27ms/step - loss: 0.0134 - acc: 0.9957 - val_loss: 0.0915 - val_acc: 0.9789\n",
            "Epoch 10/20\n",
            "391/391 [==============================] - 11s 28ms/step - loss: 0.0184 - acc: 0.9944 - val_loss: 0.0860 - val_acc: 0.9795\n",
            "Epoch 11/20\n",
            "391/391 [==============================] - 11s 28ms/step - loss: 0.0121 - acc: 0.9959 - val_loss: 0.1071 - val_acc: 0.9779\n",
            "Epoch 12/20\n",
            "391/391 [==============================] - 11s 28ms/step - loss: 0.0129 - acc: 0.9962 - val_loss: 0.0916 - val_acc: 0.9806\n",
            "Epoch 13/20\n",
            "391/391 [==============================] - 11s 29ms/step - loss: 0.0125 - acc: 0.9961 - val_loss: 0.0991 - val_acc: 0.9798\n",
            "Epoch 14/20\n",
            "391/391 [==============================] - 11s 28ms/step - loss: 0.0129 - acc: 0.9959 - val_loss: 0.1085 - val_acc: 0.9793\n",
            "Epoch 15/20\n",
            "391/391 [==============================] - 11s 28ms/step - loss: 0.0108 - acc: 0.9968 - val_loss: 0.1119 - val_acc: 0.9797\n",
            "Epoch 16/20\n",
            "391/391 [==============================] - 11s 28ms/step - loss: 0.0112 - acc: 0.9963 - val_loss: 0.1044 - val_acc: 0.9805\n",
            "Epoch 17/20\n",
            "391/391 [==============================] - 11s 28ms/step - loss: 0.0110 - acc: 0.9970 - val_loss: 0.1021 - val_acc: 0.9794\n",
            "Epoch 18/20\n",
            "391/391 [==============================] - 11s 28ms/step - loss: 0.0104 - acc: 0.9967 - val_loss: 0.1034 - val_acc: 0.9805\n",
            "Epoch 19/20\n",
            "391/391 [==============================] - 11s 28ms/step - loss: 0.0099 - acc: 0.9971 - val_loss: 0.1141 - val_acc: 0.9784\n",
            "Epoch 20/20\n",
            "391/391 [==============================] - 11s 28ms/step - loss: 0.0089 - acc: 0.9975 - val_loss: 0.1087 - val_acc: 0.9806\n"
          ],
          "name": "stdout"
        }
      ]
    },
    {
      "cell_type": "code",
      "metadata": {
        "id": "Dq0eXPWxszNv"
      },
      "source": [
        "val_dict = val.history\n",
        "loss = val_dict['loss']\n",
        "val_loss = val_dict['val_loss']"
      ],
      "execution_count": 11,
      "outputs": []
    },
    {
      "cell_type": "code",
      "metadata": {
        "id": "x1OmkUbks2HJ",
        "outputId": "f434bba9-3116-4c9a-dfc8-ac4d74ab8cd2",
        "colab": {
          "base_uri": "https://localhost:8080/",
          "height": 283
        }
      },
      "source": [
        "x = np.arange(0,len(loss))\n",
        "plt.plot(x,loss,'bo',label='E')\n",
        "plt.plot(x,val_loss,'ro',label='$E_v$')\n",
        "plt.legend()"
      ],
      "execution_count": 12,
      "outputs": [
        {
          "output_type": "execute_result",
          "data": {
            "text/plain": [
              "<matplotlib.legend.Legend at 0x7ff04f5b99e8>"
            ]
          },
          "metadata": {
            "tags": []
          },
          "execution_count": 12
        },
        {
          "output_type": "display_data",
          "data": {
            "image/png": "[encoded data removed]",
            "text/plain": [
              "<Figure size 432x288 with 1 Axes>"
            ]
          },
          "metadata": {
            "tags": [],
            "needs_background": "light"
          }
        }
      ]
    },
    {
      "cell_type": "code",
      "metadata": {
        "id": "46BEGvIus3Qd",
        "outputId": "8db52920-0770-4713-d3a8-96a178577315",
        "colab": {
          "base_uri": "https://localhost:8080/",
          "height": 283
        }
      },
      "source": [
        "acc = val_dict['acc']\n",
        "val_acc = val_dict['val_acc']\n",
        "plt.plot(x,acc,'bo',label='Accuracy')\n",
        "plt.plot(x,val_acc,'ro',label='A_v')"
      ],
      "execution_count": 13,
      "outputs": [
        {
          "output_type": "execute_result",
          "data": {
            "text/plain": [
              "[<matplotlib.lines.Line2D at 0x7ff04f544b38>]"
            ]
          },
          "metadata": {
            "tags": []
          },
          "execution_count": 13
        },
        {
          "output_type": "display_data",
          "data": {
            "image/png": "[encoded data removed]",
            "text/plain": [
              "<Figure size 432x288 with 1 Axes>"
            ]
          },
          "metadata": {
            "tags": [],
            "needs_background": "light"
          }
        }
      ]
    },
    {
      "cell_type": "code",
      "metadata": {
        "id": "PLXaGBhXs4pt"
      },
      "source": [
        "model = models.Sequential()\n",
        "model.add(layers.Dense(512, activation='relu', input_shape=(28*28,))) \n",
        "model.add(layers.Dropout(0.5))  \n",
        "model.add(layers.Dense(512, activation='relu')) \n",
        "model.add(layers.Dropout(0.5))  \n",
        "model.add(layers.Dense(10, activation='softmax')) \n",
        "model.compile(optimizer='nadam',loss='categorical_crossentropy',metrics=['acc'])"
      ],
      "execution_count": 14,
      "outputs": []
    },
    {
      "cell_type": "code",
      "metadata": {
        "id": "coeGYB8Ys6TV",
        "outputId": "ab32bad2-822b-46a7-a3fe-6857b1872de3",
        "colab": {
          "base_uri": "https://localhost:8080/"
        }
      },
      "source": [
        "val2= model.fit(partial_X_train,partial_y_train,epochs=20, batch_size=128, validation_data=(X_val, y_val))"
      ],
      "execution_count": 15,
      "outputs": [
        {
          "output_type": "stream",
          "text": [
            "Epoch 1/20\n",
            "391/391 [==============================] - 13s 33ms/step - loss: 0.3778 - acc: 0.8836 - val_loss: 0.1393 - val_acc: 0.9580\n",
            "Epoch 2/20\n",
            "391/391 [==============================] - 11s 28ms/step - loss: 0.1681 - acc: 0.9485 - val_loss: 0.1062 - val_acc: 0.9698\n",
            "Epoch 3/20\n",
            "391/391 [==============================] - 8s 21ms/step - loss: 0.1310 - acc: 0.9603 - val_loss: 0.0910 - val_acc: 0.9726\n",
            "Epoch 4/20\n",
            "391/391 [==============================] - 8s 21ms/step - loss: 0.1075 - acc: 0.9672 - val_loss: 0.0849 - val_acc: 0.9754\n",
            "Epoch 5/20\n",
            "391/391 [==============================] - 8s 21ms/step - loss: 0.0953 - acc: 0.9694 - val_loss: 0.0753 - val_acc: 0.9775\n",
            "Epoch 6/20\n",
            "391/391 [==============================] - 8s 21ms/step - loss: 0.0863 - acc: 0.9726 - val_loss: 0.0766 - val_acc: 0.9774\n",
            "Epoch 7/20\n",
            "391/391 [==============================] - 8s 21ms/step - loss: 0.0798 - acc: 0.9757 - val_loss: 0.0812 - val_acc: 0.9773\n",
            "Epoch 8/20\n",
            "391/391 [==============================] - 8s 21ms/step - loss: 0.0731 - acc: 0.9767 - val_loss: 0.0708 - val_acc: 0.9802\n",
            "Epoch 9/20\n",
            "391/391 [==============================] - 8s 21ms/step - loss: 0.0672 - acc: 0.9782 - val_loss: 0.0762 - val_acc: 0.9793\n",
            "Epoch 10/20\n",
            "391/391 [==============================] - 8s 21ms/step - loss: 0.0656 - acc: 0.9797 - val_loss: 0.0688 - val_acc: 0.9811\n",
            "Epoch 11/20\n",
            "391/391 [==============================] - 8s 21ms/step - loss: 0.0624 - acc: 0.9795 - val_loss: 0.0679 - val_acc: 0.9814\n",
            "Epoch 12/20\n",
            "391/391 [==============================] - 8s 21ms/step - loss: 0.0594 - acc: 0.9808 - val_loss: 0.0695 - val_acc: 0.9818\n",
            "Epoch 13/20\n",
            "391/391 [==============================] - 8s 21ms/step - loss: 0.0557 - acc: 0.9827 - val_loss: 0.0683 - val_acc: 0.9798\n",
            "Epoch 14/20\n",
            "391/391 [==============================] - 8s 21ms/step - loss: 0.0543 - acc: 0.9830 - val_loss: 0.0758 - val_acc: 0.9791\n",
            "Epoch 15/20\n",
            "391/391 [==============================] - 8s 21ms/step - loss: 0.0533 - acc: 0.9835 - val_loss: 0.0732 - val_acc: 0.9804\n",
            "Epoch 16/20\n",
            "391/391 [==============================] - 8s 21ms/step - loss: 0.0490 - acc: 0.9842 - val_loss: 0.0700 - val_acc: 0.9825\n",
            "Epoch 17/20\n",
            "391/391 [==============================] - 8s 21ms/step - loss: 0.0473 - acc: 0.9841 - val_loss: 0.0687 - val_acc: 0.9813\n",
            "Epoch 18/20\n",
            "391/391 [==============================] - 8s 21ms/step - loss: 0.0436 - acc: 0.9855 - val_loss: 0.0676 - val_acc: 0.9825\n",
            "Epoch 19/20\n",
            "391/391 [==============================] - 8s 21ms/step - loss: 0.0458 - acc: 0.9854 - val_loss: 0.0668 - val_acc: 0.9820\n",
            "Epoch 20/20\n",
            "391/391 [==============================] - 8s 22ms/step - loss: 0.0410 - acc: 0.9868 - val_loss: 0.0703 - val_acc: 0.9829\n"
          ],
          "name": "stdout"
        }
      ]
    },
    {
      "cell_type": "code",
      "metadata": {
        "id": "bg4gj8Pss7sU",
        "outputId": "818a51ed-cf9a-450f-ca30-814538b3f060",
        "colab": {
          "base_uri": "https://localhost:8080/",
          "height": 283
        }
      },
      "source": [
        "val_dict = val2.history\n",
        "loss = val_dict['loss']\n",
        "val_loss = val_dict['val_loss']\n",
        "\n",
        "x = np.arange(0,len(loss))\n",
        "plt.plot(x,loss,'bo',label='E')\n",
        "plt.plot(x,val_loss,'ro',label='$E_v$')\n",
        "plt.legend()"
      ],
      "execution_count": 16,
      "outputs": [
        {
          "output_type": "execute_result",
          "data": {
            "text/plain": [
              "<matplotlib.legend.Legend at 0x7ff04ee29898>"
            ]
          },
          "metadata": {
            "tags": []
          },
          "execution_count": 16
        },
        {
          "output_type": "display_data",
          "data": {
            "image/png": "[encoded data removed]",
            "text/plain": [
              "<Figure size 432x288 with 1 Axes>"
            ]
          },
          "metadata": {
            "tags": [],
            "needs_background": "light"
          }
        }
      ]
    },
    {
      "cell_type": "code",
      "metadata": {
        "id": "cZsKKZjrs9nj",
        "outputId": "5c82826f-3c1c-4963-a8c3-0b28bf6eb250",
        "colab": {
          "base_uri": "https://localhost:8080/",
          "height": 283
        }
      },
      "source": [
        "acc = val_dict['acc']\n",
        "val_acc = val_dict['val_acc']\n",
        "plt.plot(x,acc,'bo',label='Accuracy')\n",
        "plt.plot(x,val_acc,'ro',label='A_v')"
      ],
      "execution_count": 17,
      "outputs": [
        {
          "output_type": "execute_result",
          "data": {
            "text/plain": [
              "[<matplotlib.lines.Line2D at 0x7ff04f5440b8>]"
            ]
          },
          "metadata": {
            "tags": []
          },
          "execution_count": 17
        },
        {
          "output_type": "display_data",
          "data": {
            "image/png": "[encoded data removed]",
            "text/plain": [
              "<Figure size 432x288 with 1 Axes>"
            ]
          },
          "metadata": {
            "tags": [],
            "needs_background": "light"
          }
        }
      ]
    },
    {
      "cell_type": "code",
      "metadata": {
        "id": "kvhitZ5ntAbz",
        "outputId": "b4d52057-eb09-444f-cb55-7cb479430f34",
        "colab": {
          "base_uri": "https://localhost:8080/"
        }
      },
      "source": [
        "test_loss, test_acc = net.evaluate(X_test,y_test)"
      ],
      "execution_count": 18,
      "outputs": [
        {
          "output_type": "stream",
          "text": [
            "313/313 [==============================] - 1s 4ms/step - loss: 0.1109 - acc: 0.9805\n"
          ],
          "name": "stdout"
        }
      ]
    },
    {
      "cell_type": "code",
      "metadata": {
        "id": "qGn0FJ3FtB4e",
        "outputId": "1dcdeb64-8acc-487c-a010-f7255fb5d0ea",
        "colab": {
          "base_uri": "https://localhost:8080/"
        }
      },
      "source": [
        "test_loss, test_acc = model.evaluate(X_test,y_test)"
      ],
      "execution_count": 19,
      "outputs": [
        {
          "output_type": "stream",
          "text": [
            "313/313 [==============================] - 1s 3ms/step - loss: 0.0657 - acc: 0.9830\n"
          ],
          "name": "stdout"
        }
      ]
    },
    {
      "cell_type": "code",
      "metadata": {
        "id": "SWhiGkbVtDPl"
      },
      "source": [
        ""
      ],
      "execution_count": null,
      "outputs": []
    }
  ]
}